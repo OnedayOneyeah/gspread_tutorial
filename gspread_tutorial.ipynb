{
 "cells": [
  {
   "cell_type": "markdown",
   "metadata": {},
   "source": [
    "## Gspread Tutorial"
   ]
  },
  {
   "cell_type": "markdown",
   "metadata": {},
   "source": [
    "### 1. Authentication"
   ]
  },
  {
   "cell_type": "markdown",
   "metadata": {},
   "source": [
    "Prerequisite: 먼저 google cloud api key를 발급 받아야 함!\n",
    "1. [gspread 사용법](url:https://greeksharifa.github.io/references/2023/04/10/gspread-usage/) 사이트를 참고해서 먼저 키를 발급 받기\n",
    "2. 이후 api key가 담긴 json 파일을 하나 다운 받을 수 있음.\n",
    "3. 이를 path='~/.config/gspread/service_account.json'에 추가.\n",
    "4. google spread sheet에서 json file에 있는 client_email을 입력해 사용자 추가."
   ]
  },
  {
   "cell_type": "code",
   "execution_count": 1,
   "metadata": {},
   "outputs": [
    {
     "name": "stdout",
     "output_type": "stream",
     "text": [
      "6.0.1\n",
      "[['워크플랜']]\n"
     ]
    }
   ],
   "source": [
    "import gspread\n",
    "\n",
    "print(gspread.__version__)\n",
    "gc = gspread.service_account()\n",
    "sh = gc.open(\"Energy_based_TTA\") # spreadsheet title\n",
    "\n",
    "# test\n",
    "print(sh.sheet1.get('B4')) # [['워크플랜']]"
   ]
  },
  {
   "cell_type": "code",
   "execution_count": null,
   "metadata": {},
   "outputs": [],
   "source": [
    "# open, create, share\n",
    "sh = gc.open('Energy_based_TTA') # by name\n",
    "sh = gc.open_by_key('18S40npniOO6ADK1468wyFogMV0SMOP22n7Co_2BUlv4') # by key\n",
    "sh = gc.open_by_url('https://docs.google.com/spreadsheets/d/18S40npniOO6ADK1468wyFogMV0SMOP22n7Co_2BUlv4/edit#gid=473102806') # by url\n",
    "\n",
    "sh = gc.create('A new spreadsheet') # new spreadsheet\n",
    "sh.share('sign1028@snu.ac.kr', perm_type = 'user', role = 'writer')"
   ]
  },
  {
   "cell_type": "markdown",
   "metadata": {},
   "source": [
    "### 2. sheet select, create, delete"
   ]
  },
  {
   "cell_type": "code",
   "execution_count": 2,
   "metadata": {},
   "outputs": [
    {
     "data": {
      "text/plain": [
       "{'spreadsheetId': '18S40npniOO6ADK1468wyFogMV0SMOP22n7Co_2BUlv4',\n",
       " 'replies': [{}]}"
      ]
     },
     "execution_count": 2,
     "metadata": {},
     "output_type": "execute_result"
    }
   ],
   "source": [
    "# sheet select, create, delete\n",
    "worksheet = sh.sheet1\n",
    "worksheet = sh.get_worksheet(0) # select the first worksheet\n",
    "worksheet = sh.worksheet(\"Reproduce\")\n",
    "worksheet_list = sh.worksheets() # list up all the sheets' titles\n",
    "# add a new worksheet and delete it\n",
    "worksheet = sh.add_worksheet(title = \"EBM new approach\", rows = 50, cols = 26)\n",
    "sh.del_worksheet(worksheet)"
   ]
  },
  {
   "cell_type": "code",
   "execution_count": 3,
   "metadata": {},
   "outputs": [
    {
     "data": {
      "text/plain": [
       "<Worksheet 'Reproduce' id:0>"
      ]
     },
     "execution_count": 3,
     "metadata": {},
     "output_type": "execute_result"
    }
   ],
   "source": [
    "sh.worksheet(\"Reproduce\")"
   ]
  },
  {
   "cell_type": "code",
   "execution_count": 42,
   "metadata": {},
   "outputs": [
    {
     "data": {
      "text/plain": [
       "652042062"
      ]
     },
     "execution_count": 42,
     "metadata": {},
     "output_type": "execute_result"
    }
   ],
   "source": [
    "worksheet.id"
   ]
  },
  {
   "cell_type": "code",
   "execution_count": 40,
   "metadata": {},
   "outputs": [
    {
     "data": {
      "text/plain": [
       "<bound method Spreadsheet.worksheet of <Spreadsheet 'Energy_based_TTA' id:18S40npniOO6ADK1468wyFogMV0SMOP22n7Co_2BUlv4>>"
      ]
     },
     "execution_count": 40,
     "metadata": {},
     "output_type": "execute_result"
    }
   ],
   "source": [
    "sh.worksheet"
   ]
  },
  {
   "cell_type": "markdown",
   "metadata": {},
   "source": [
    "### 3. Retrieve cell values"
   ]
  },
  {
   "cell_type": "code",
   "execution_count": 4,
   "metadata": {},
   "outputs": [
    {
     "name": "stdout",
     "output_type": "stream",
     "text": [
      "18.26\n",
      "18.26\n",
      "[['18.26']]\n"
     ]
    }
   ],
   "source": [
    "# get values\n",
    "worksheet = sh.worksheet(\"Reproduce\")\n",
    "val = worksheet.cell(6,4).value \n",
    "print(val)\n",
    "val = worksheet.acell('D6').value\n",
    "print(val)\n",
    "val = worksheet.get('D6')\n",
    "print(val)"
   ]
  },
  {
   "cell_type": "code",
   "execution_count": 60,
   "metadata": {},
   "outputs": [
    {
     "name": "stdout",
     "output_type": "stream",
     "text": [
      "[['18.26'], ['12.07'], ['14.22']]\n"
     ]
    }
   ],
   "source": [
    "worksheet = sh.worksheet(\"Reproduce\")\n",
    "print(worksheet.get('D6:D8'))"
   ]
  },
  {
   "cell_type": "code",
   "execution_count": 6,
   "metadata": {},
   "outputs": [
    {
     "name": "stdout",
     "output_type": "stream",
     "text": [
      "=AVERAGE(E6:S6)\n"
     ]
    }
   ],
   "source": [
    "# get values with cell formula\n",
    "val = worksheet.acell('D6', value_render_option = 'FORMULA').value\n",
    "print(val)"
   ]
  },
  {
   "cell_type": "code",
   "execution_count": 7,
   "metadata": {},
   "outputs": [
    {
     "name": "stdout",
     "output_type": "stream",
     "text": [
      "['', 'source', '-', '18.26', '28.77', '22.95', '26.19', '9.45', '20.61', '10.56', '9.25', '14.14', '15.26', '17.49', '7.61', '20.95', '14.74', '41.31', '14.68']\n",
      "['', '', '', '', 'AVG', '18.26', '12.07', '14.22', '90', '12.54', '', '', '29.93', '', '', '', '', '', 'Open', '18.26', '', '', '', '', '', '', '', '', '', '', '', '', '', '', '', '', 'Open', '18.26', '', '', '', '29.93']\n"
     ]
    }
   ],
   "source": [
    "# get all the vals from one row / column\n",
    "values_list = worksheet.row_values(6)\n",
    "print(values_list)\n",
    "values_list = worksheet.col_values(4)\n",
    "print(values_list)"
   ]
  },
  {
   "cell_type": "code",
   "execution_count": 12,
   "metadata": {},
   "outputs": [
    {
     "data": {
      "text/plain": [
       "[['', '', '', '', '', '', '', '', '', '', '', '', '', '', '', '', '', '', ''],\n",
       " ['',\n",
       "  'Reproduce',\n",
       "  '',\n",
       "  '',\n",
       "  '',\n",
       "  '',\n",
       "  '',\n",
       "  '',\n",
       "  '',\n",
       "  '',\n",
       "  '',\n",
       "  '',\n",
       "  '',\n",
       "  '',\n",
       "  '',\n",
       "  '',\n",
       "  '',\n",
       "  '',\n",
       "  ''],\n",
       " ['', '', '', '', '', '', '', '', '', '', '', '', '', '', '', '', '', '', ''],\n",
       " ['', '', '', '', '', '', '', '', '', '', '', '', '', '', '', '', '', '', ''],\n",
       " ['',\n",
       "  '',\n",
       "  'lr',\n",
       "  'AVG',\n",
       "  'gaussian_noise5',\n",
       "  'shot_noise5',\n",
       "  'impulse_noise5',\n",
       "  'defocus_blur5',\n",
       "  'glass_blur5',\n",
       "  'motion_blur5',\n",
       "  'zoom_blur5',\n",
       "  'snow5',\n",
       "  'frost5',\n",
       "  'fog5',\n",
       "  'brightness5',\n",
       "  'contrast5',\n",
       "  'elastic_transform5',\n",
       "  'pixelate5',\n",
       "  'jpeg_compression5'],\n",
       " ['',\n",
       "  'source',\n",
       "  '-',\n",
       "  '18.26',\n",
       "  '28.77',\n",
       "  '22.95',\n",
       "  '26.19',\n",
       "  '9.45',\n",
       "  '20.61',\n",
       "  '10.56',\n",
       "  '9.25',\n",
       "  '14.14',\n",
       "  '15.26',\n",
       "  '17.49',\n",
       "  '7.61',\n",
       "  '20.95',\n",
       "  '14.74',\n",
       "  '41.31',\n",
       "  '14.68'],\n",
       " ['',\n",
       "  'TENT',\n",
       "  '0.0010',\n",
       "  '12.07',\n",
       "  '15.61',\n",
       "  '13.21',\n",
       "  '18.76',\n",
       "  '7.91',\n",
       "  '18.1',\n",
       "  '8.96',\n",
       "  '8',\n",
       "  '10.4',\n",
       "  '10.87',\n",
       "  '12.3',\n",
       "  '6.65',\n",
       "  '10.06',\n",
       "  '14.08',\n",
       "  '11.36',\n",
       "  '14.74'],\n",
       " ['',\n",
       "  'TENT (After 1)',\n",
       "  '0.0010',\n",
       "  '14.22',\n",
       "  '15.61',\n",
       "  '12.1',\n",
       "  '16.98',\n",
       "  '9.73',\n",
       "  '19.15',\n",
       "  '12.41',\n",
       "  '10.78',\n",
       "  '13.76',\n",
       "  '13.71',\n",
       "  '15.74',\n",
       "  '10.69',\n",
       "  '13.07',\n",
       "  '16.92',\n",
       "  '13.84',\n",
       "  '18.88'],\n",
       " ['',\n",
       "  'TENT (After 1, no reset)',\n",
       "  '0.0010',\n",
       "  '90',\n",
       "  '',\n",
       "  '',\n",
       "  '',\n",
       "  '',\n",
       "  '',\n",
       "  '',\n",
       "  '',\n",
       "  '',\n",
       "  '',\n",
       "  '',\n",
       "  '',\n",
       "  '',\n",
       "  '',\n",
       "  '',\n",
       "  ''],\n",
       " ['',\n",
       "  'TENT (After 1, no reset)',\n",
       "  '0.0001',\n",
       "  '12.54',\n",
       "  '',\n",
       "  '',\n",
       "  '',\n",
       "  '',\n",
       "  '',\n",
       "  '',\n",
       "  '',\n",
       "  '',\n",
       "  '',\n",
       "  '',\n",
       "  '',\n",
       "  '',\n",
       "  '',\n",
       "  '',\n",
       "  ''],\n",
       " ['', '', '', '', '', '', '', '', '', '', '', '', '', '', '', '', '', '', ''],\n",
       " ['', '', '', '', '', '', '', '', '', '', '', '', '', '', '', '', '', '', ''],\n",
       " ['',\n",
       "  '',\n",
       "  '',\n",
       "  '29.93',\n",
       "  '',\n",
       "  '',\n",
       "  '',\n",
       "  '',\n",
       "  '',\n",
       "  '',\n",
       "  '',\n",
       "  '',\n",
       "  '',\n",
       "  '',\n",
       "  '',\n",
       "  '',\n",
       "  '',\n",
       "  '',\n",
       "  ''],\n",
       " ['', '', '', '', '', '', '', '', '', '', '', '', '', '', '', '', '', '', ''],\n",
       " ['', '', '', '', '', '', '', '', '', '', '', '', '', '', '', '', '', '', ''],\n",
       " ['', '', '', '', '', '', '', '', '', '', '', '', '', '', '', '', '', '', ''],\n",
       " ['',\n",
       "  'Long Term',\n",
       "  '',\n",
       "  '',\n",
       "  '',\n",
       "  '',\n",
       "  '',\n",
       "  '',\n",
       "  '',\n",
       "  '',\n",
       "  '',\n",
       "  '',\n",
       "  '',\n",
       "  '',\n",
       "  '',\n",
       "  '',\n",
       "  '',\n",
       "  '',\n",
       "  ''],\n",
       " ['',\n",
       "  'Method',\n",
       "  'CIFAR-10-C',\n",
       "  '',\n",
       "  'CIFAR-100-C',\n",
       "  '',\n",
       "  'TinyImageNet-C',\n",
       "  '',\n",
       "  'Average',\n",
       "  '',\n",
       "  '',\n",
       "  '',\n",
       "  '',\n",
       "  '',\n",
       "  '',\n",
       "  '',\n",
       "  '',\n",
       "  '',\n",
       "  ''],\n",
       " ['',\n",
       "  '',\n",
       "  'Closed',\n",
       "  'Open',\n",
       "  'Closed',\n",
       "  'Open',\n",
       "  'Closed',\n",
       "  'Open',\n",
       "  'Closed',\n",
       "  'Open',\n",
       "  '',\n",
       "  '',\n",
       "  '',\n",
       "  '',\n",
       "  '',\n",
       "  '',\n",
       "  '',\n",
       "  '',\n",
       "  ''],\n",
       " ['',\n",
       "  'Source',\n",
       "  '18.26',\n",
       "  '18.26',\n",
       "  '',\n",
       "  '',\n",
       "  '',\n",
       "  '',\n",
       "  '',\n",
       "  '',\n",
       "  '',\n",
       "  '',\n",
       "  '',\n",
       "  '',\n",
       "  '',\n",
       "  '',\n",
       "  '',\n",
       "  '',\n",
       "  ''],\n",
       " ['',\n",
       "  'BN Adapt',\n",
       "  '',\n",
       "  '',\n",
       "  '',\n",
       "  '',\n",
       "  '',\n",
       "  '',\n",
       "  '',\n",
       "  '',\n",
       "  '',\n",
       "  '',\n",
       "  '',\n",
       "  '',\n",
       "  '',\n",
       "  '',\n",
       "  '',\n",
       "  '',\n",
       "  ''],\n",
       " ['',\n",
       "  'ENT',\n",
       "  '',\n",
       "  '',\n",
       "  '',\n",
       "  '',\n",
       "  '',\n",
       "  '',\n",
       "  '',\n",
       "  '',\n",
       "  '',\n",
       "  '',\n",
       "  '',\n",
       "  '',\n",
       "  '',\n",
       "  '',\n",
       "  '',\n",
       "  '',\n",
       "  ''],\n",
       " ['',\n",
       "  '+Theirs',\n",
       "  '',\n",
       "  '',\n",
       "  '',\n",
       "  '',\n",
       "  '',\n",
       "  '',\n",
       "  '',\n",
       "  '',\n",
       "  '',\n",
       "  '',\n",
       "  '',\n",
       "  '',\n",
       "  '',\n",
       "  '',\n",
       "  '',\n",
       "  '',\n",
       "  ''],\n",
       " ['',\n",
       "  'TENT',\n",
       "  '',\n",
       "  '',\n",
       "  '',\n",
       "  '',\n",
       "  '',\n",
       "  '',\n",
       "  '',\n",
       "  '',\n",
       "  '',\n",
       "  '',\n",
       "  '',\n",
       "  '',\n",
       "  '',\n",
       "  '',\n",
       "  '',\n",
       "  '',\n",
       "  ''],\n",
       " ['',\n",
       "  '+Theirs',\n",
       "  '',\n",
       "  '',\n",
       "  '',\n",
       "  '',\n",
       "  '',\n",
       "  '',\n",
       "  '',\n",
       "  '',\n",
       "  '',\n",
       "  '',\n",
       "  '',\n",
       "  '',\n",
       "  '',\n",
       "  '',\n",
       "  '',\n",
       "  '',\n",
       "  ''],\n",
       " ['',\n",
       "  'ENT',\n",
       "  '',\n",
       "  '',\n",
       "  '',\n",
       "  '',\n",
       "  '',\n",
       "  '',\n",
       "  '',\n",
       "  '',\n",
       "  '',\n",
       "  '',\n",
       "  '',\n",
       "  '',\n",
       "  '',\n",
       "  '',\n",
       "  '',\n",
       "  '',\n",
       "  ''],\n",
       " ['',\n",
       "  '+EBM',\n",
       "  '',\n",
       "  '',\n",
       "  '',\n",
       "  '',\n",
       "  '',\n",
       "  '',\n",
       "  '',\n",
       "  '',\n",
       "  '',\n",
       "  '',\n",
       "  '',\n",
       "  '',\n",
       "  '',\n",
       "  '',\n",
       "  '',\n",
       "  '',\n",
       "  ''],\n",
       " ['',\n",
       "  'TENT',\n",
       "  '',\n",
       "  '',\n",
       "  '',\n",
       "  '',\n",
       "  '',\n",
       "  '',\n",
       "  '',\n",
       "  '',\n",
       "  '',\n",
       "  '',\n",
       "  '',\n",
       "  '',\n",
       "  '',\n",
       "  '',\n",
       "  '',\n",
       "  '',\n",
       "  ''],\n",
       " ['',\n",
       "  '+EBM',\n",
       "  '',\n",
       "  '',\n",
       "  '',\n",
       "  '',\n",
       "  '',\n",
       "  '',\n",
       "  '',\n",
       "  '',\n",
       "  '',\n",
       "  '',\n",
       "  '',\n",
       "  '',\n",
       "  '',\n",
       "  '',\n",
       "  '',\n",
       "  '',\n",
       "  ''],\n",
       " ['', '', '', '', '', '', '', '', '', '', '', '', '', '', '', '', '', '', ''],\n",
       " ['', '', '', '', '', '', '', '', '', '', '', '', '', '', '', '', '', '', ''],\n",
       " ['', '', '', '', '', '', '', '', '', '', '', '', '', '', '', '', '', '', ''],\n",
       " ['', '', '', '', '', '', '', '', '', '', '', '', '', '', '', '', '', '', ''],\n",
       " ['', '', '', '', '', '', '', '', '', '', '', '', '', '', '', '', '', '', ''],\n",
       " ['',\n",
       "  'Short Term',\n",
       "  '',\n",
       "  '',\n",
       "  '',\n",
       "  '',\n",
       "  '',\n",
       "  '',\n",
       "  '',\n",
       "  '',\n",
       "  '',\n",
       "  '',\n",
       "  '',\n",
       "  '',\n",
       "  '',\n",
       "  '',\n",
       "  '',\n",
       "  '',\n",
       "  ''],\n",
       " ['',\n",
       "  'Method',\n",
       "  'CIFAR-10-C',\n",
       "  '',\n",
       "  'CIFAR-100-C',\n",
       "  '',\n",
       "  'TinyImageNet-C',\n",
       "  '',\n",
       "  'Average',\n",
       "  '',\n",
       "  '',\n",
       "  '',\n",
       "  '',\n",
       "  '',\n",
       "  '',\n",
       "  '',\n",
       "  '',\n",
       "  '',\n",
       "  ''],\n",
       " ['',\n",
       "  '',\n",
       "  'Closed',\n",
       "  'Open',\n",
       "  'Closed',\n",
       "  'Open',\n",
       "  'Closed',\n",
       "  'Open',\n",
       "  'Closed',\n",
       "  'Open',\n",
       "  '',\n",
       "  '',\n",
       "  '',\n",
       "  '',\n",
       "  '',\n",
       "  '',\n",
       "  '',\n",
       "  '',\n",
       "  ''],\n",
       " ['',\n",
       "  'Source',\n",
       "  '18.26',\n",
       "  '18.26',\n",
       "  '',\n",
       "  '',\n",
       "  '',\n",
       "  '',\n",
       "  '',\n",
       "  '',\n",
       "  '',\n",
       "  '',\n",
       "  '',\n",
       "  '',\n",
       "  '',\n",
       "  '',\n",
       "  '',\n",
       "  '',\n",
       "  ''],\n",
       " ['',\n",
       "  'BN Adapt',\n",
       "  '',\n",
       "  '',\n",
       "  '',\n",
       "  '',\n",
       "  '',\n",
       "  '',\n",
       "  '',\n",
       "  '',\n",
       "  '',\n",
       "  '',\n",
       "  '',\n",
       "  '',\n",
       "  '',\n",
       "  '',\n",
       "  '',\n",
       "  '',\n",
       "  ''],\n",
       " ['',\n",
       "  'ENT',\n",
       "  '',\n",
       "  '',\n",
       "  '',\n",
       "  '',\n",
       "  '',\n",
       "  '',\n",
       "  '',\n",
       "  '',\n",
       "  '',\n",
       "  '',\n",
       "  '',\n",
       "  '',\n",
       "  '',\n",
       "  '',\n",
       "  '',\n",
       "  '',\n",
       "  ''],\n",
       " ['',\n",
       "  '+Theirs',\n",
       "  '',\n",
       "  '',\n",
       "  '',\n",
       "  '',\n",
       "  '',\n",
       "  '',\n",
       "  '',\n",
       "  '',\n",
       "  '',\n",
       "  '',\n",
       "  '',\n",
       "  '',\n",
       "  '',\n",
       "  '',\n",
       "  '',\n",
       "  '',\n",
       "  ''],\n",
       " ['',\n",
       "  'TENT',\n",
       "  '12.54',\n",
       "  '29.93',\n",
       "  '',\n",
       "  '',\n",
       "  '',\n",
       "  '',\n",
       "  '',\n",
       "  '',\n",
       "  '',\n",
       "  '',\n",
       "  '',\n",
       "  '',\n",
       "  '',\n",
       "  '',\n",
       "  '',\n",
       "  '',\n",
       "  ''],\n",
       " ['',\n",
       "  '+Theirs',\n",
       "  '',\n",
       "  '',\n",
       "  '',\n",
       "  '',\n",
       "  '',\n",
       "  '',\n",
       "  '',\n",
       "  '',\n",
       "  '',\n",
       "  '',\n",
       "  '',\n",
       "  '',\n",
       "  '',\n",
       "  '',\n",
       "  '',\n",
       "  '',\n",
       "  ''],\n",
       " ['',\n",
       "  'ENT',\n",
       "  '',\n",
       "  '',\n",
       "  '',\n",
       "  '',\n",
       "  '',\n",
       "  '',\n",
       "  '',\n",
       "  '',\n",
       "  '',\n",
       "  '',\n",
       "  '',\n",
       "  '',\n",
       "  '',\n",
       "  '',\n",
       "  '',\n",
       "  '',\n",
       "  ''],\n",
       " ['',\n",
       "  '+EBM',\n",
       "  '',\n",
       "  '',\n",
       "  '',\n",
       "  '',\n",
       "  '',\n",
       "  '',\n",
       "  '',\n",
       "  '',\n",
       "  '',\n",
       "  '',\n",
       "  '',\n",
       "  '',\n",
       "  '',\n",
       "  '',\n",
       "  '',\n",
       "  '',\n",
       "  ''],\n",
       " ['',\n",
       "  'TENT',\n",
       "  '',\n",
       "  '',\n",
       "  '',\n",
       "  '',\n",
       "  '',\n",
       "  '',\n",
       "  '',\n",
       "  '',\n",
       "  '',\n",
       "  '',\n",
       "  '',\n",
       "  '',\n",
       "  '',\n",
       "  '',\n",
       "  '',\n",
       "  '',\n",
       "  ''],\n",
       " ['',\n",
       "  '+EBM',\n",
       "  '',\n",
       "  '',\n",
       "  '',\n",
       "  '',\n",
       "  '',\n",
       "  '',\n",
       "  '',\n",
       "  '',\n",
       "  '',\n",
       "  '',\n",
       "  '',\n",
       "  '',\n",
       "  '',\n",
       "  '',\n",
       "  '',\n",
       "  '',\n",
       "  '']]"
      ]
     },
     "execution_count": 12,
     "metadata": {},
     "output_type": "execute_result"
    }
   ],
   "source": [
    "list_of_lists = worksheet.get_all_values()\n",
    "list_of_lists"
   ]
  },
  {
   "cell_type": "markdown",
   "metadata": {},
   "source": [
    "### 4. Update cell values"
   ]
  },
  {
   "cell_type": "code",
   "execution_count": 7,
   "metadata": {},
   "outputs": [],
   "source": [
    "# sheet select, create, delete\n",
    "sh.del_worksheet(worksheet)\n",
    "worksheet = sh.add_worksheet(title = \"EBM new approach\", rows = 50, cols = 26)"
   ]
  },
  {
   "cell_type": "code",
   "execution_count": 8,
   "metadata": {},
   "outputs": [
    {
     "data": {
      "text/plain": [
       "{'spreadsheetId': '18S40npniOO6ADK1468wyFogMV0SMOP22n7Co_2BUlv4',\n",
       " 'clearedRange': \"'EBM new approach'!A1:Z50\"}"
      ]
     },
     "execution_count": 8,
     "metadata": {},
     "output_type": "execute_result"
    }
   ],
   "source": [
    "worksheet.clear()"
   ]
  },
  {
   "cell_type": "code",
   "execution_count": 9,
   "metadata": {},
   "outputs": [
    {
     "data": {
      "text/plain": [
       "{'spreadsheetId': '18S40npniOO6ADK1468wyFogMV0SMOP22n7Co_2BUlv4',\n",
       " 'clearedRanges': [\"'EBM new approach'!A1:B1\", \"'EBM new approach'!C2:E2\"]}"
      ]
     },
     "execution_count": 9,
     "metadata": {},
     "output_type": "execute_result"
    }
   ],
   "source": [
    "worksheet.batch_clear([\"A1:B1\", \"C2:E2\"])"
   ]
  },
  {
   "cell_type": "code",
   "execution_count": 10,
   "metadata": {},
   "outputs": [
    {
     "name": "stderr",
     "output_type": "stream",
     "text": [
      "<ipython-input-10-6a102db07431>:6: DeprecationWarning: The order of arguments in worksheet.update() has changed. Please pass values first and range_name secondor used named arguments (range_name=, values=)\n",
      "  worksheet.update('A1:B2',[[val, val], [val,val]])\n"
     ]
    },
    {
     "data": {
      "text/plain": [
       "{'spreadsheetId': '18S40npniOO6ADK1468wyFogMV0SMOP22n7Co_2BUlv4',\n",
       " 'updatedRange': \"'EBM new approach'!A1:B2\",\n",
       " 'updatedRows': 2,\n",
       " 'updatedColumns': 2,\n",
       " 'updatedCells': 4}"
      ]
     },
     "execution_count": 10,
     "metadata": {},
     "output_type": "execute_result"
    }
   ],
   "source": [
    "worksheet = sh.worksheet(\"Reproduce\")\n",
    "val = worksheet.cell(6,4).value\n",
    "worksheet = sh.worksheet(\"EBM new approach\")\n",
    "# worksheet.update('F4', val)\n",
    "worksheet.update_cell(6,4,val)\n",
    "worksheet.update('A1:B2',[[val, val], [val,val]])"
   ]
  },
  {
   "cell_type": "markdown",
   "metadata": {},
   "source": [
    "### 5. Styles"
   ]
  },
  {
   "cell_type": "code",
   "execution_count": 30,
   "metadata": {},
   "outputs": [
    {
     "data": {
      "text/plain": [
       "{'spreadsheetId': '18S40npniOO6ADK1468wyFogMV0SMOP22n7Co_2BUlv4',\n",
       " 'replies': [{}]}"
      ]
     },
     "execution_count": 30,
     "metadata": {},
     "output_type": "execute_result"
    }
   ],
   "source": [
    "worksheet.format('A1:B1', {'textFormat': {'bold': True}})\n",
    "worksheet.format(\"A2:B2\", {\n",
    "    \"backgroundColor\": {\n",
    "      \"red\": 0.0,\n",
    "      \"green\": 0.0,\n",
    "      \"blue\": 0.0\n",
    "    },\n",
    "    \"horizontalAlignment\": \"CENTER\",\n",
    "    \"textFormat\": {\n",
    "      \"foregroundColor\": {\n",
    "        \"red\": 1.0,\n",
    "        \"green\": 1.0,\n",
    "        \"blue\": 1.0\n",
    "      },\n",
    "      \"fontSize\": 12,\n",
    "      \"bold\": True\n",
    "    }\n",
    "})"
   ]
  },
  {
   "cell_type": "markdown",
   "metadata": {},
   "source": [
    "### 6. Let's put it to use!"
   ]
  },
  {
   "cell_type": "code",
   "execution_count": 11,
   "metadata": {},
   "outputs": [
    {
     "name": "stdout",
     "output_type": "stream",
     "text": [
      "6.0.1\n",
      "Sheets list: [<Worksheet 'Workplan' id:473102806>, <Worksheet 'TODO' id:146813570>, <Worksheet 'Reproduce' id:0>, <Worksheet 'LeaderBoard' id:2105301094>, <Worksheet 'TENT vs EBM' id:1265784251>, <Worksheet 'visualization' id:639672029>, <Worksheet 'test' id:1615669892>, <Worksheet 'EBM new approach' id:2116849117>]\n"
     ]
    }
   ],
   "source": [
    "from Gspread import Gspread\n",
    "gs_logger = Gspread()\n",
    "gs_logger.open_worksheet(\"Energy_based_TTA\") # your worksheet name"
   ]
  },
  {
   "cell_type": "code",
   "execution_count": 15,
   "metadata": {},
   "outputs": [
    {
     "name": "stdout",
     "output_type": "stream",
     "text": [
      "Selected sheet name: test\n"
     ]
    }
   ],
   "source": [
    "gs_logger.select_sheet('test')"
   ]
  },
  {
   "cell_type": "code",
   "execution_count": 16,
   "metadata": {},
   "outputs": [],
   "source": [
    "import torch\n",
    "import numpy as np\n",
    "file_name = ['gaussian_noise-5', 'shot_noise-5', 'impulse_noise-5',\t'defocus_blur-5',\t'glass_blur-5',\t'motion_blur-5',\t'zoom_blur-5',\t'snow-5',\t'frost-5',\t'fog-5',\t'brightness-5',\t'contrast-5',\t'elastic_transform-5',\t'pixelate-5',\t'jpeg_compression-5']\n",
    "sample_errate = [f\"{torch.randn(1).tolist()[0]:.2}\" for _ in range(len(file_name))]"
   ]
  },
  {
   "cell_type": "code",
   "execution_count": 17,
   "metadata": {},
   "outputs": [
    {
     "data": {
      "text/plain": [
       "['1.6',\n",
       " '0.0005',\n",
       " '-0.6',\n",
       " '-0.48',\n",
       " '0.93',\n",
       " '0.46',\n",
       " '0.088',\n",
       " '-0.14',\n",
       " '0.21',\n",
       " '0.47',\n",
       " '0.065',\n",
       " '-1.5',\n",
       " '2.1',\n",
       " '-1.3',\n",
       " '0.37']"
      ]
     },
     "execution_count": 17,
     "metadata": {},
     "output_type": "execute_result"
    }
   ],
   "source": [
    "sample_errate"
   ]
  },
  {
   "cell_type": "code",
   "execution_count": 18,
   "metadata": {},
   "outputs": [],
   "source": [
    "cnt = 1\n",
    "for name, errate in zip(file_name ,sample_errate):\n",
    "    gs_logger.update_by_cell(2, cnt, name)\n",
    "    gs_logger.update_by_cell(3, cnt, errate)\n",
    "    cnt += 1"
   ]
  },
  {
   "cell_type": "markdown",
   "metadata": {},
   "source": [
    "### 7. Customize"
   ]
  },
  {
   "cell_type": "code",
   "execution_count": 43,
   "metadata": {},
   "outputs": [
    {
     "name": "stdout",
     "output_type": "stream",
     "text": [
      "6.0.1\n",
      "Sheets list: [<Worksheet 'Workplan' id:473102806>, <Worksheet 'TODO' id:146813570>, <Worksheet 'Reproduce' id:0>, <Worksheet 'LeaderBoard' id:2105301094>, <Worksheet 'TENT vs EBM' id:1265784251>, <Worksheet 'visualization' id:639672029>, <Worksheet 'test' id:1615669892>, <Worksheet 'EBM new approach' id:2116849117>]\n",
      "Selected sheet name: TENT vs EBM\n"
     ]
    }
   ],
   "source": [
    "from Gspread import CustomLogger\n",
    "gs_logger = CustomLogger(\"TENT\", \"open\", 200, 1e-4) #  model_name, open_closed, batch_size, lr, n_steps = \"\", step_size = \"\", standard = \"\", loss = \"\"\n",
    "sample_errate = [float(x) for x in sample_errate]\n",
    "for errate in sample_errate:\n",
    "    # print(type(errate))\n",
    "    gs_logger.log_errate(errate)"
   ]
  }
 ],
 "metadata": {
  "kernelspec": {
   "display_name": "energy",
   "language": "python",
   "name": "python3"
  },
  "language_info": {
   "codemirror_mode": {
    "name": "ipython",
    "version": 3
   },
   "file_extension": ".py",
   "mimetype": "text/x-python",
   "name": "python",
   "nbconvert_exporter": "python",
   "pygments_lexer": "ipython3",
   "version": "3.9.12"
  }
 },
 "nbformat": 4,
 "nbformat_minor": 2
}
